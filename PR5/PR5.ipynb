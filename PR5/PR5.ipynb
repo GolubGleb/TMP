{
 "cells": [
  {
   "attachments": {},
   "cell_type": "markdown",
   "metadata": {},
   "source": [
    "# Практическая работа 5\n",
    "Выполнил студент группы БИСО-02-20 Тыван М. В.\n",
    "#### Паттерн Фабрика\n",
    "Описаны конкретные фабрики создающие столы и стулья. Абстрактная фабрика  описана в классе FurnitureFactory, который создает стол и стул. Классы ProductА1, ProductA2, ProductB1, ProductB2 представляют конкретные реализации продуктов стол и стул. Функция client_code использует созданные продукты."
   ]
  },
  {
   "cell_type": "code",
   "execution_count": 24,
   "metadata": {},
   "outputs": [
    {
     "name": "stdout",
     "output_type": "stream",
     "text": [
      "ProductA1 создан \n",
      "Табуретка\n",
      "ProductB1 создан \n",
      "Компьютерный стол\n",
      "ProductA2 создан \n",
      "Кресло геймерское\n",
      "ProductB2 создан \n",
      "Офисный стол\n"
     ]
    }
   ],
   "source": [
    "from abc import ABC, abstractmethod\n",
    "\n",
    "class Chair(ABC):\n",
    "    @abstractmethod\n",
    "    def do_something(self):\n",
    "        pass\n",
    "\n",
    "class Table(ABC):\n",
    "    @abstractmethod\n",
    "    def do_something_else(self):\n",
    "        pass\n",
    "\n",
    "class ProductA1(Chair):\n",
    "    def do_something(self):\n",
    "        print(\"Табуретка\")\n",
    "\n",
    "class ProductA2(Chair):\n",
    "    def do_something(self):\n",
    "        print(\"Кресло геймерское\")\n",
    "\n",
    "class ProductB1(Table):\n",
    "    def do_something_else(self):\n",
    "        print(\"Компьютерный стол\")\n",
    "\n",
    "class ProductB2(Table):\n",
    "    def do_something_else(self):\n",
    "        print(\"Офисный стол\")\n",
    "\n",
    "class FurnitureFactory(ABC):\n",
    "    @abstractmethod\n",
    "    def create_chair(self) -> Chair:\n",
    "        pass\n",
    "    \n",
    "    @abstractmethod\n",
    "    def create_coffe_table(self) -> Table:\n",
    "        pass\n",
    "\n",
    "class VictorianFurnitureFactory(FurnitureFactory):\n",
    "    def create_chair(self) -> Chair:\n",
    "        return ProductA1()\n",
    "    \n",
    "    def create_coffe_table(self) -> Table:\n",
    "        return ProductB1()\n",
    "\n",
    "class ModernFurnitureFactory(FurnitureFactory):\n",
    "    def create_chair(self) -> Chair:\n",
    "        return ProductA2()\n",
    "    \n",
    "    def create_coffe_table(self) -> Table:\n",
    "        return ProductB2()\n",
    "\n",
    "def client_code(factory: FurnitureFactory  ) -> None:\n",
    "    product_a= factory.create_chair()\n",
    "    product_b= factory.create_coffe_table()\n",
    "\n",
    "    print(f\"{type(product_a).__name__} создан \")\n",
    "    product_a.do_something()\n",
    "\n",
    "    print(f\"{type(product_b).__name__} создан \")\n",
    "    product_b.do_something_else()\n",
    "\n",
    "factory1= VictorianFurnitureFactory()\n",
    "client_code(factory1)\n",
    "\n",
    "factory2= ModernFurnitureFactory()\n",
    "client_code(factory2)"
   ]
  },
  {
   "attachments": {},
   "cell_type": "markdown",
   "metadata": {},
   "source": [
    "#### Паттерн Строитель\n",
    "Создал класс Computer и класс строитель ComputerBuilder. Класс Computer имеет пять свойств: CPU, GPU, RAM, Storage, Watercooler. Класс ComputerBuilder предоставляет методы для описания каждого свойства компьютера. Класс Director определяет последовательность шагов для построения конфигурации компьютера."
   ]
  },
  {
   "cell_type": "code",
   "execution_count": 25,
   "metadata": {},
   "outputs": [
    {
     "name": "stdout",
     "output_type": "stream",
     "text": [
      "CPU: Intel i7, GPU: Nvidia RTX 2060, RAM: 16 GB DDR4, Storage: 500 GB SSD and 1TB HDD, WaterCooler: No\n"
     ]
    }
   ],
   "source": [
    "class Computer:\n",
    "    def __init__(self):\n",
    "        self.cpu= None\n",
    "        self.gpu= None\n",
    "        self.ram= None\n",
    "        self.storage= None\n",
    "        self.watercooling= None\n",
    "\n",
    "    def __str__(self):\n",
    "        return f\"CPU: {self.cpu}, GPU: {self.gpu}, RAM: {self.ram}, Storage: {self.storage}, WaterCooler: {self.watercooling}\"\n",
    "\n",
    "class ComputerBuilder:\n",
    "    def __init__(self):\n",
    "        self.computer= Computer()\n",
    "\n",
    "    def set_cpu(self, cpu):\n",
    "        self.computer.cpu= cpu\n",
    "\n",
    "    def set_gpu(self, gpu):\n",
    "        self.computer.gpu= gpu\n",
    "\n",
    "    def set_ram(self, ram):\n",
    "        self.computer.ram= ram\n",
    "\n",
    "    def set_storage(self, storage):\n",
    "        self.computer.storage= storage\n",
    "    \n",
    "    def set_watercooling(self, watercooling):\n",
    "        self.computer.watercooling= watercooling\n",
    "\n",
    "    def get_computer(self):\n",
    "        return self.computer  \n",
    "\n",
    "class Director:\n",
    "    def __init__(self, builder):\n",
    "        self.builder= builder\n",
    "\n",
    "    def build_high_end_computer(self):\n",
    "        self.builder.set_cpu(\"Intel i9\")\n",
    "        self.builder.set_gpu(\"Nvidia RTX 4090\")\n",
    "        self.builder.set_ram(\"32 GB DDR5\")\n",
    "        self.builder.set_storage(\"2 TB SSD\")\n",
    "        self.builder.set_watercooling(\"Yes\")\n",
    "\n",
    "    def build_mid_range_computer(self):\n",
    "        self.builder.set_cpu(\"Intel i7\")\n",
    "        self.builder.set_gpu(\"Nvidia RTX 2060\")\n",
    "        self.builder.set_ram(\"16 GB DDR4\")\n",
    "        self.builder.set_storage(\"500 GB SSD and 1TB HDD\")\n",
    "        self.builder.set_watercooling(\"No\")\n",
    "\n",
    "    def build_low_range_computer(self):\n",
    "        self.builder.set_cpu(\"Intel i5\")\n",
    "        self.builder.set_gpu(\"Nvidia GTX 1660\")\n",
    "        self.builder.set_ram(\"8 GB DDR4\")\n",
    "        self.builder.set_storage(\"240 GB SSD and 500GB HDD\")\n",
    "        self.builder.set_watercooling(\"No\")\n",
    "\n",
    "builder= ComputerBuilder()\n",
    "director= Director(builder)\n",
    "director.build_mid_range_computer()\n",
    "\n",
    "computer= builder.get_computer()\n",
    "\n",
    "print(computer)"
   ]
  },
  {
   "attachments": {},
   "cell_type": "markdown",
   "metadata": {},
   "source": [
    "#### Паттерн адаптер\n",
    "Реализовал паттерн на простом “мнимом” примере перевода файлов \n",
    "из Word в PDF."
   ]
  },
  {
   "cell_type": "code",
   "execution_count": 26,
   "metadata": {},
   "outputs": [
    {
     "name": "stdout",
     "output_type": "stream",
     "text": [
      "Данные в формате .docx преобразованы в формат PDF\n",
      "Файл Как справиться с депрессией для чайников сохранен в PDF\n"
     ]
    }
   ],
   "source": [
    "class Word:\n",
    "    def get_data(self):\n",
    "        return\"Данные в формате .docx\"\n",
    "\n",
    "class Pdf:\n",
    "    def set_data(self, data):\n",
    "        print(f\"Файл {data} сохранен в PDF\")\n",
    "\n",
    "class Adapter(Pdf):\n",
    "    def __init__(self):\n",
    "        self.old_format= Word()\n",
    "\n",
    "    def set_data(self, data):\n",
    "        old_data= self.old_format.get_data()\n",
    "        print(f\"{old_data} преобразованы в формат PDF\")\n",
    "        super().set_data(data)\n",
    "\n",
    "\n",
    "adapter= Adapter()\n",
    "adapter.set_data(\"Как справиться с депрессией для чайников\")"
   ]
  },
  {
   "attachments": {},
   "cell_type": "markdown",
   "metadata": {},
   "source": [
    "#### Паттерн посредник\n",
    "Создал  класс Mediator, который служит посредником между двумя коллегами Colleague1 и Colleague2. Каждый коллега имеет доступ к посреднику и может отправлять сообщение другому коллеге. При получении сообщения посредник передает его нужному коллеге. Коллеги не знают друг о друге и общаются только через посредника. "
   ]
  },
  {
   "cell_type": "code",
   "execution_count": 27,
   "metadata": {},
   "outputs": [],
   "source": [
    "class Mediator:\n",
    "    def __init__(self):\n",
    "        self.colleague_1= Colleague1(self)\n",
    "        self.colleague_2= Colleague2(self)\n",
    "\n",
    "    def communicate(self, message, colleague):\n",
    "        if colleague== self.colleague_1:\n",
    "            self.colleague_2.receive(message)\n",
    "        elif colleague== self.colleague_2:\n",
    "            self.colleague_1.receive(message)\n",
    "\n",
    "class Colleague1:\n",
    "    def __init__(self, mediator):\n",
    "        self.mediator= mediator\n",
    "\n",
    "    def send(self, message):\n",
    "        self.mediator.communicate(message, self)\n",
    "\n",
    "    def receive(self, message):\n",
    "        print(f\"Коллега 1 получил сообщение: {message}\")\n",
    "\n",
    "class Colleague2:\n",
    "    def __init__(self, mediator):\n",
    "        self.mediator= mediator\n",
    "\n",
    "\n",
    "    def send(self, message):\n",
    "        self.mediator.communicate(message, self)\n",
    "\n",
    "    def receive(self, message):\n",
    "        print(f\"Коллега 2 получил сообщение: {message}\")\n",
    "\n",
    "mediator= Mediator()\n",
    "Cektant= Colleague1(mediator)\n",
    "Pop= Colleague2(mediator)\n",
    "\n",
    "Cektant.send(\"Здравствуйте, не хотите ли поговорить о господе нашем Боге?\")\n",
    "Pop.send(\"Отстаньте, я из РПЦ\")"
   ]
  }
 ],
 "metadata": {
  "kernelspec": {
   "display_name": "Python 3",
   "language": "python",
   "name": "python3"
  },
  "language_info": {
   "codemirror_mode": {
    "name": "ipython",
    "version": 3
   },
   "file_extension": ".py",
   "mimetype": "text/x-python",
   "name": "python",
   "nbconvert_exporter": "python",
   "pygments_lexer": "ipython3",
   "version": "3.11.2"
  },
  "orig_nbformat": 4
 },
 "nbformat": 4,
 "nbformat_minor": 2
}
