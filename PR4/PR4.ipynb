{
 "cells": [
  {
   "attachments": {},
   "cell_type": "markdown",
   "metadata": {},
   "source": [
    "# Практическая работа 4\n",
    "Выполнил студент группы БИСО-02-20 Тыван М. В."
   ]
  },
  {
   "attachments": {},
   "cell_type": "markdown",
   "metadata": {},
   "source": [
    "#### Паттерн Итератор\n",
    "Создал класс Numbers, который представляет из себя список чисел, и \n",
    "класс Iterator, который будет реализовывать обход списка. Далее создал \n",
    "объект и добавил в него несколько чисел, затем в цикле обошел все \n",
    "элементы и вывел корень каждого числа."
   ]
  },
  {
   "cell_type": "code",
   "execution_count": 7,
   "metadata": {},
   "outputs": [
    {
     "name": "stdout",
     "output_type": "stream",
     "text": [
      "8.306623862918075\n",
      "5.0\n",
      "9.797958971132712\n"
     ]
    }
   ],
   "source": [
    "import math as m\n",
    "\n",
    "class Numbers:\n",
    "\n",
    "    def __init__(self):\n",
    "        self.numbers= []\n",
    "\n",
    "    def add_number(self, num):\n",
    "        self.numbers.append(num)\n",
    "\n",
    "    def __iter__(self):\n",
    "        return Iterator(self.numbers)\n",
    "\n",
    "class Iterator:\n",
    "\n",
    "    def __init__(self, inum):\n",
    "        self.inum= inum\n",
    "        self.index= 0\n",
    "\n",
    "    def __next__(self):\n",
    "        ##res = []\n",
    "        if self.index< len(self.inum):\n",
    "            ##res.append(self.numberss[self.index])\n",
    "            sqrt= self.inum[self.index]\n",
    "            self.index+= 1\n",
    "            sqrt= m.sqrt(sqrt)\n",
    "            return sqrt\n",
    "        else:\n",
    "            raise StopIteration\n",
    "        \n",
    "numbers= Numbers()\n",
    "numbers.add_number(69)\n",
    "numbers.add_number(25)\n",
    "numbers.add_number(96)\n",
    "for number in numbers:\n",
    "    print(number)"
   ]
  },
  {
   "attachments": {},
   "cell_type": "markdown",
   "metadata": {},
   "source": [
    "#### Паттерн посетитель\n",
    "Создал класс Object, его наследников Object_A Object_B, каждый из \n",
    "наследников имеет метод accept(), который принимает инспектора (по \n",
    "сути посетителя) (Inspector) и вызывает соответствующий метод. Класс \n",
    "инспектор определяет 3 метода, посетить объект А, объект Б, и дать \n",
    "оценку объекту. Так же определены два класса-наследника Инспектор 1 и \n",
    "2, каждый из которых реализует методы для обработки Объектов А и Б. В \n",
    "функцию клиент мы передаем список объектов и инспектора, который \n",
    "будет обрабатывать каждый объект. Ну и в конце создаем список объектов \n",
    "(Object_A Object_B) и вызываем два раза функцию client, каждый раз с \n",
    "новым инспектором."
   ]
  },
  {
   "cell_type": "code",
   "execution_count": 8,
   "metadata": {},
   "outputs": [
    {
     "name": "stdout",
     "output_type": "stream",
     "text": [
      "Инспектор 1 посетил Object A\n",
      "Инспектор 1 оценил Object\n",
      "Инспектор 1 посетил Object B\n",
      "Инспектор 1 оценил Object\n",
      "Инспектор 2 посетил Object A\n",
      "Инспектор 2 оценил Object\n",
      "Инспектор 2 посетил Object B\n",
      "Инспектор 2 оценил Object\n"
     ]
    }
   ],
   "source": [
    "class Objects:\n",
    "    def accept(self, inspector):\n",
    "        pass\n",
    "\n",
    "class Object_A(Objects):\n",
    "    def accept(self, inspector):\n",
    "        inspector.visit_object_a(self)\n",
    "        inspector.appreciated(self)\n",
    "\n",
    "class Object_B(Objects):\n",
    "    def accept(self, inspector):\n",
    "        inspector.visit_object_b(self)\n",
    "        inspector.appreciated(self)\n",
    "\n",
    "class Inspector:\n",
    "    def visit_object_a(self, object):\n",
    "        pass\n",
    "\n",
    "    def visit_object_b(self, object):\n",
    "        pass\n",
    "\n",
    "    def appreciated(self,object):\n",
    "        pass\n",
    "\n",
    "class Inspector1(Inspector):\n",
    "    def visit_object_a(self, object):\n",
    "        print(\"Инспектор 1 посетил Object A\")\n",
    "\n",
    "    def visit_object_b(self, object):\n",
    "        print(\"Инспектор 1 посетил Object B\")\n",
    "\n",
    "    def appreciated(self,object):\n",
    "        print(\"Инспектор 1 оценил Object\")\n",
    "\n",
    "class Inspector2(Inspector):\n",
    "    def visit_object_a(self, object):\n",
    "        print(\"Инспектор 2 посетил Object A\")\n",
    "\n",
    "    def visit_object_b(self, object):\n",
    "        print(\"Инспектор 2 посетил Object B\")\n",
    "\n",
    "    def appreciated(self,object):\n",
    "        print(\"Инспектор 2 оценил Object\")\n",
    "\n",
    "def client(Object, inspector):\n",
    "    for object in Object:\n",
    "        object.accept(inspector)\n",
    "\n",
    "if __name__== \"__main__\":\n",
    "    Object= [Object_A(), Object_B()]\n",
    "\n",
    "    Inspector_1= Inspector1()\n",
    "    client(Object, Inspector_1)\n",
    "\n",
    "    Inspector_2= Inspector2()\n",
    "    client(Object, Inspector_2)"
   ]
  }
 ],
 "metadata": {
  "kernelspec": {
   "display_name": "Python 3",
   "language": "python",
   "name": "python3"
  },
  "language_info": {
   "codemirror_mode": {
    "name": "ipython",
    "version": 3
   },
   "file_extension": ".py",
   "mimetype": "text/x-python",
   "name": "python",
   "nbconvert_exporter": "python",
   "pygments_lexer": "ipython3",
   "version": "3.11.2"
  },
  "orig_nbformat": 4
 },
 "nbformat": 4,
 "nbformat_minor": 2
}
