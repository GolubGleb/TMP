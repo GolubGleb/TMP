{
 "cells": [
  {
   "attachments": {},
   "cell_type": "markdown",
   "metadata": {},
   "source": [
    "# Практическая работа 3\n",
    "Выполнил студент группы БИСО-02-20 Тыван М. В."
   ]
  },
  {
   "attachments": {},
   "cell_type": "markdown",
   "metadata": {},
   "source": [
    "# Стратегия\n",
    "\n",
    "Стратегия — это поведенческий паттерн проектирования, который определяет семейство схожих\n",
    "алгоритмов и помещает каждый из них в собственный класс, после чего алгоритмы можно\n",
    "взаимозаменять прямо во время исполнения программы.\n",
    "\n",
    "Паттерн Стратегия предлагает определить семейство схожих алгоритмов, которые часто\n",
    "изменяются или расширяются, и вынести их в собственные классы, называемые стратегиями.\n",
    "Вместо того, чтобы изначальный класс сам выполнял тот или иной алгоритм, он будет играть роль\n",
    "контекста, ссылаясь на одну из стратегий и делегируя ей выполнение работы. Чтобы сменить\n",
    "алгоритм, вам будет достаточно подставить в контекст другой объект-стратегию.\n",
    "\n",
    "Важно, чтобы все стратегии имели общий интерфейс. Используя этот интерфейс, контекст будет\n",
    "независимым от конкретных классов стратегий. С другой стороны, вы сможете изменять и\n",
    "добавлять новые виды алгоритмов, не трогая код контекста.\n",
    "\n",
    "Примером исплоьзования паттерна стратегия может быть обработка оплаты:\n",
    "\n",
    "![](./sc/schem.png)\n",
    "\n",
    "\n",
    "Изначальный класс PayProc имеет интерфейс PayStrat, служащий контекстом, и независимые контексты для оплаты по дебетовой карте, СПБ и Криптокошелёк.\n",
    "\n",
    "## Реализация на языке программирования Python\n",
    "Реализуем изначальный класс PayProc и интерфейс PayStrat:"
   ]
  },
  {
   "cell_type": "code",
   "execution_count": 25,
   "metadata": {},
   "outputs": [],
   "source": [
    "from abc import ABC, abstractmethod\n",
    "\n",
    "class PayProc:\n",
    "    def __init__(self, payment_strategy):\n",
    "        self.payment_strategy = payment_strategy\n",
    "    def process_payment(self, amount):\n",
    "        self.payment_strategy.process_payment(amount)\n",
    "        \n",
    "class PayStrat(ABC):\n",
    "    @abstractmethod\n",
    "    def process_payment(self, amount):\n",
    "        pass"
   ]
  },
  {
   "attachments": {},
   "cell_type": "markdown",
   "metadata": {},
   "source": [
    "Добавим стратегии оплаты по разным платёжным шлюзам (дебетовая карта, СПБ, криптокошелёк):"
   ]
  },
  {
   "cell_type": "code",
   "execution_count": 26,
   "metadata": {},
   "outputs": [],
   "source": [
    "class DebCardStrat(PayStrat):\n",
    "    def process_payment(self, amount):\n",
    "        print(f\"Обрабатывается оплата по дебетовой карте: {amount} р.\")\n",
    "\n",
    "class SPBStrat(PayStrat):\n",
    "    def process_payment(self, amount):\n",
    "        print(f\"Обрабатывается оплата по СПБ: {amount} р.\")\n",
    "\n",
    "class CryptoStrat(PayStrat):\n",
    "    def process_payment(self, amount):\n",
    "        print(f\"Обрабатывается оплата через криптокошелёк: {amount} р.\")"
   ]
  },
  {
   "attachments": {},
   "cell_type": "markdown",
   "metadata": {},
   "source": [
    "Реализуем примеры:"
   ]
  },
  {
   "cell_type": "code",
   "execution_count": 27,
   "metadata": {},
   "outputs": [
    {
     "name": "stdout",
     "output_type": "stream",
     "text": [
      "Обрабатывается оплата по дебетовой карте: 100 р.\n",
      "Обрабатывается оплата по СПБ: 500 р.\n",
      "Обрабатывается оплата через криптокошелёк: 200000 р.\n"
     ]
    }
   ],
   "source": [
    "deb_card_strategy = DebCardStrat()\n",
    "payment_processor = PayProc(deb_card_strategy)\n",
    "payment_processor.process_payment(100)\n",
    "\n",
    "spb_strategy = SPBStrat()\n",
    "payment_processor = PayProc(spb_strategy)\n",
    "payment_processor.process_payment(500)\n",
    "\n",
    "crypto_strategy = CryptoStrat()\n",
    "payment_processor = PayProc(crypto_strategy)\n",
    "payment_processor.process_payment(200000)"
   ]
  }
 ],
 "metadata": {
  "kernelspec": {
   "display_name": "Python 3",
   "language": "python",
   "name": "python3"
  },
  "language_info": {
   "codemirror_mode": {
    "name": "ipython",
    "version": 3
   },
   "file_extension": ".py",
   "mimetype": "text/x-python",
   "name": "python",
   "nbconvert_exporter": "python",
   "pygments_lexer": "ipython3",
   "version": "3.11.2"
  },
  "orig_nbformat": 4
 },
 "nbformat": 4,
 "nbformat_minor": 2
}
