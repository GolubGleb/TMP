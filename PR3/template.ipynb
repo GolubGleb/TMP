{
 "cells": [
  {
   "attachments": {},
   "cell_type": "markdown",
   "metadata": {},
   "source": [
    "# Практическая работа 3\n",
    "Выполнил студент группы БИСО-02-20 Тыван М. В."
   ]
  },
  {
   "attachments": {},
   "cell_type": "markdown",
   "metadata": {},
   "source": [
    "# Шаблонный метод\n",
    "Шаблонный метод — это поведенческий паттерн проектирования, который определяет скелет\n",
    "алгоритма, перекладывая ответственность за некоторые его шаги на подклассы. \n",
    "\n",
    "Паттерн\n",
    "позволяет подклассам переопределять шаги алгоритма, не меняя его общей структуры.\n",
    "Паттерн Шаблонный метод предлагает разбить алгоритм на последовательность шагов, описать\n",
    "эти шаги в отдельных методах и вызывать их в одном шаблонном методе друг за другом.\n",
    "\n",
    "Это позволит подклассам переопределять некоторые шаги алгоритма, оставляя без изменений его\n",
    "структуру и остальные шаги, которые для этого подкласса не так важны.\n",
    "\n",
    "Примером использования шаблонного метода может стать система генерации отчётов:\n",
    "\n",
    "![](./sc/schem2.png)\n",
    "\n",
    "Есть базовый абстрактный класс ReportGenerator, предоставляющий шаблон для создания отчётов и классы SalesReportGenerator (отчёт о продажах) и InventoryReportGenerator (расходная накладная), использующие свои форматы и генераторы файлов.\n",
    "\n",
    "# Реализация на языке программирования Python\n",
    "\n",
    "Реализуем абстрактный метод:"
   ]
  },
  {
   "cell_type": "code",
   "execution_count": 9,
   "metadata": {},
   "outputs": [],
   "source": [
    "from abc import ABC, abstractmethod\n",
    "\n",
    "class ReportGenerator(ABC):\n",
    "    \n",
    "    @abstractmethod\n",
    "    def generate_report(self):\n",
    "        pass\n",
    "    \n",
    "    @abstractmethod\n",
    "    def get_data_source(self):\n",
    "        pass\n",
    "    \n",
    "    @abstractmethod\n",
    "    def format_data(self, data_source):\n",
    "        pass\n",
    "    \n",
    "    @abstractmethod\n",
    "    def generate_specific_report(self, formatted_data):\n",
    "        pass"
   ]
  },
  {
   "attachments": {},
   "cell_type": "markdown",
   "metadata": {},
   "source": [
    "Реализуем генератор отчётов о продажах:"
   ]
  },
  {
   "cell_type": "code",
   "execution_count": 10,
   "metadata": {},
   "outputs": [],
   "source": [
    "class ChartFormatter:\n",
    "    \n",
    "    def format(self, data):\n",
    "        print(\"Генерирую схему\")\n",
    "\n",
    "\n",
    "class PDFGenerator:\n",
    "    \n",
    "    def generate(self, data, title):\n",
    "        print(\"Сохраняю в формате PDF\")\n",
    "\n",
    "class SalesReportGenerator(ReportGenerator):\n",
    "    \n",
    "    def generate_report(self):\n",
    "        data_source = self.get_data_source()\n",
    "        formatted_data = self.format_data(data_source)\n",
    "        self.generate_specific_report(formatted_data)\n",
    "        \n",
    "    def get_data_source(self):\n",
    "        print(\"Получаю информацию о продажах\")\n",
    "    \n",
    "    def format_data(self, data_source):\n",
    "        print(\"Форматирую информацию\")\n",
    "    \n",
    "    def generate_specific_report(self, formatted_data):\n",
    "        print(\"Генерирую отчёт \")"
   ]
  },
  {
   "attachments": {},
   "cell_type": "markdown",
   "metadata": {},
   "source": [
    "Реализуем генератор расходной накладной:"
   ]
  },
  {
   "cell_type": "code",
   "execution_count": 11,
   "metadata": {},
   "outputs": [],
   "source": [
    "class TableFormatter:\n",
    "    \n",
    "    def format(self, data):\n",
    "        print(\"Форматирую таблицу\")\n",
    "\n",
    "class ExcelGenerator:\n",
    "    def generate(self, data, title):\n",
    "        print(\"Сохраняю таблицу Excel\")\n",
    "\n",
    "class InventoryReportGenerator(ReportGenerator):\n",
    "    \n",
    "    def generate_report(self):\n",
    "        data_source = self.get_data_source()\n",
    "        formatted_data = self.format_data(data_source)\n",
    "        self.generate_specific_report(formatted_data)\n",
    "        \n",
    "    def get_data_source(self):\n",
    "        print(\"Получаю информацию со склада\")\n",
    "    \n",
    "    def format_data(self, data_source):\n",
    "        print(\"Форматирую информацию со склада\")\n",
    "    \n",
    "    def generate_specific_report(self, formatted_data):\n",
    "        print(\"Генерирую отчёт\")"
   ]
  },
  {
   "attachments": {},
   "cell_type": "markdown",
   "metadata": {},
   "source": [
    "Запустим примеры:"
   ]
  },
  {
   "cell_type": "code",
   "execution_count": 12,
   "metadata": {},
   "outputs": [
    {
     "name": "stdout",
     "output_type": "stream",
     "text": [
      "Получаю информацию о продажах\n",
      "Форматирую информацию\n",
      "Генерирую отчёт \n",
      "\n",
      "Получаю информацию со склада\n",
      "Форматирую информацию со склада\n",
      "Генерирую отчёт\n"
     ]
    }
   ],
   "source": [
    "sales_report = SalesReportGenerator()\n",
    "inventory_report = InventoryReportGenerator()\n",
    "\n",
    "table_formatter = TableFormatter()\n",
    "chart_formatter = ChartFormatter()\n",
    "\n",
    "pdf_generator = PDFGenerator()\n",
    "excel_generator = ExcelGenerator()\n",
    "\n",
    "sales_report.table_formatter = table_formatter\n",
    "sales_report.pdf_generator = pdf_generator\n",
    "\n",
    "inventory_report.chart_formatter = chart_formatter\n",
    "inventory_report.excel_generator = excel_generator\n",
    "\n",
    "sales_report.generate_report()\n",
    "print()\n",
    "inventory_report.generate_report()"
   ]
  }
 ],
 "metadata": {
  "kernelspec": {
   "display_name": "Python 3",
   "language": "python",
   "name": "python3"
  },
  "language_info": {
   "codemirror_mode": {
    "name": "ipython",
    "version": 3
   },
   "file_extension": ".py",
   "mimetype": "text/x-python",
   "name": "python",
   "nbconvert_exporter": "python",
   "pygments_lexer": "ipython3",
   "version": "3.11.2"
  },
  "orig_nbformat": 4
 },
 "nbformat": 4,
 "nbformat_minor": 2
}
