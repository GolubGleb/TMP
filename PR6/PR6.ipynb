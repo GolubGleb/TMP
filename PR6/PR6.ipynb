{
 "cells": [
  {
   "attachments": {},
   "cell_type": "markdown",
   "metadata": {},
   "source": [
    "# Практическая работа 6\n",
    "Выполнил студент группы БИСО-02-20 Тыван М. В."
   ]
  },
  {
   "attachments": {},
   "cell_type": "markdown",
   "metadata": {},
   "source": [
    "#### Инверсия управления\n",
    "Создал класс PayProc, который может быть использован для \n",
    "обработки платежей. Он принимает в конструкторе экземпляр платежного \n",
    "шлюза payment_gateway и использует его для аутентификации и \n",
    "обработки платежей. Затем определил два класса, которые реализуют \n",
    "интерфейс payment_gateway  – Sber и Visa. Оба класса имеют методы \n",
    "authenticate() и charge(), которые используются PayProc для \n",
    "обработки платежей."
   ]
  },
  {
   "cell_type": "code",
   "execution_count": 14,
   "metadata": {},
   "outputs": [],
   "source": [
    "class PaymentProcessor:\n",
    "    def __init__(self, payment_gateway):\n",
    "        self.payment_gateway= payment_gateway\n",
    "\n",
    "    def process_payment(self, amount):\n",
    "        self.payment_gateway.authenticate()\n",
    "        self.payment_gateway.charge(amount)\n",
    "\n",
    "class Sber:\n",
    "    def authenticate(self):\n",
    "        print(\"Аутентификация через Sber\")\n",
    "\n",
    "    def charge(self, amount):\n",
    "        print(f\"Обработка {amount}через Sber\")\n",
    "\n",
    "class Visa:\n",
    "    def authenticate(self):\n",
    "        print(\"Аутентификация через Visa\")\n",
    "\n",
    "    def charge(self, amount):\n",
    "        print(f\"Обработка {amount}через Visa\")\n"
   ]
  },
  {
   "attachments": {},
   "cell_type": "markdown",
   "metadata": {},
   "source": [
    "#### Паттерн Заместитель\n",
    "Создал три класса - Service, RealService, Proxy. Класс Service определяет общий \n",
    "интерфейс для наших объектов, RealService представляет основной объект, который \n",
    "будет выполнять какую-то задачу, а Proxy - объект-заместитель, который контролирует \n",
    "доступ к реальному объекту. "
   ]
  },
  {
   "cell_type": "code",
   "execution_count": 15,
   "metadata": {},
   "outputs": [
    {
     "name": "stdout",
     "output_type": "stream",
     "text": [
      "Клиент без заместителя\n",
      "RealService: Обработка запроса\n",
      "Клиент с заместителем\n",
      "RealService: Обработка запроса\n"
     ]
    }
   ],
   "source": [
    "class Service:\n",
    "    def request(self):\n",
    "        pass\n",
    "\n",
    "class RealService(Service):\n",
    "    def request(self):\n",
    "        print(\"RealService: Обработка запроса\")\n",
    "\n",
    "class Proxy(Service):\n",
    "    def __init__(self):\n",
    "        self.real_subject = None\n",
    "\n",
    "    def request(self):\n",
    "        if self.check_access():\n",
    "            if self.real_subject is None:\n",
    "                self.real_subject = RealService()\n",
    "            self.real_subject.request()\n",
    "        else:\n",
    "            print(\"Доступ запрещен\")\n",
    "\n",
    "    def check_access(self):\n",
    "        return True\n",
    "\n",
    "def client_code(subject: Service):\n",
    "    subject.request()\n",
    "\n",
    "print(\"Клиент без заместителя\")\n",
    "real_subject= RealService()\n",
    "client_code(real_subject)\n",
    "\n",
    "print(\"Клиент с заместителем\")\n",
    "proxy= Proxy()\n",
    "client_code(proxy)"
   ]
  },
  {
   "attachments": {},
   "cell_type": "markdown",
   "metadata": {},
   "source": [
    "#### Паттерн Компоновщик\n",
    "Реализовал абстрактный класс Component, который представляется как листовой \n",
    "элемент. У класса Composite есть методы для добавления и удаления дочерних \n",
    "элементов, а также метод operation(), который вызывается для каждого дочернего \n",
    "элемента. Leaf же просто выполняет свою операцию."
   ]
  },
  {
   "cell_type": "code",
   "execution_count": 16,
   "metadata": {},
   "outputs": [
    {
     "name": "stdout",
     "output_type": "stream",
     "text": [
      "Выполнение операции в листе\n",
      "Выполнение операции в листе\n",
      "Выполнение операции в листе\n"
     ]
    }
   ],
   "source": [
    "from abc import ABC, abstractmethod\n",
    "class Component(ABC):\n",
    "    \n",
    "    @abstractmethod\n",
    "    def operation(self) -> None:\n",
    "        pass\n",
    " \n",
    " \n",
    "class Composite(Component):\n",
    " \n",
    "    def __init__(self) -> None:\n",
    "        self._children= []\n",
    " \n",
    "    def add(self, component: Component) -> None:\n",
    "        self._children.append(component)\n",
    " \n",
    "    def remove(self, component: Component) -> None:\n",
    "        self._children.remove(component)\n",
    " \n",
    "    def operation(self) -> None:\n",
    "        \n",
    "        for child in self._children:\n",
    "            child.operation()\n",
    " \n",
    " \n",
    "class Leaf(Component):\n",
    " \n",
    "    def operation(self) -> None:\n",
    "        print(\"Выполнение операции в листе\")\n",
    " \n",
    " \n",
    " \n",
    "composite= Composite()\n",
    "op1= Leaf()\n",
    "op2= Leaf()\n",
    "op3= Leaf()\n",
    "composite.add(op1)\n",
    "composite.add(op2)\n",
    "composite.add(op3) \n",
    "composite.operation()"
   ]
  }
 ],
 "metadata": {
  "kernelspec": {
   "display_name": "Python 3",
   "language": "python",
   "name": "python3"
  },
  "language_info": {
   "codemirror_mode": {
    "name": "ipython",
    "version": 3
   },
   "file_extension": ".py",
   "mimetype": "text/x-python",
   "name": "python",
   "nbconvert_exporter": "python",
   "pygments_lexer": "ipython3",
   "version": "3.11.2"
  },
  "orig_nbformat": 4
 },
 "nbformat": 4,
 "nbformat_minor": 2
}
